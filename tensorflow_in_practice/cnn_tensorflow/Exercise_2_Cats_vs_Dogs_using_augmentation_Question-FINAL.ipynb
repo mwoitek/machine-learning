{
 "cells": [
  {
   "cell_type": "code",
   "execution_count": 1,
   "metadata": {
    "attributes": {
     "classes": [],
     "id": "",
     "n": "1"
    }
   },
   "outputs": [],
   "source": [
    "# ATTENTION: Please do not alter any of the provided code in the exercise. Only\n",
    "# add your own code where indicated.\n",
    "# ATTENTION: Please do not add or remove any cells in the exercise. The grader\n",
    "# will check specific cells based on the cell position.\n",
    "# ATTENTION: Please use the provided epoch values when training.\n",
    "\n",
    "# In this exercise you will train a CNN on the FULL Cats-v-dogs dataset.\n",
    "# This will require you doing a lot of data preprocessing because the dataset\n",
    "# isn't split into training and validation for you.\n",
    "\n",
    "import os\n",
    "import random\n",
    "import shutil\n",
    "import tensorflow as tf\n",
    "import zipfile\n",
    "from os import getcwd\n",
    "from shutil import copyfile\n",
    "from tensorflow.keras.optimizers import RMSprop\n",
    "from tensorflow.keras.preprocessing.image import ImageDataGenerator"
   ]
  },
  {
   "cell_type": "code",
   "execution_count": 2,
   "metadata": {
    "attributes": {
     "classes": [],
     "id": "",
     "n": "2"
    }
   },
   "outputs": [],
   "source": [
    "# This code block unzips the full Cats-v-Dogs dataset to /tmp which will create\n",
    "# a tmp/PetImages directory containing subdirectories called \"Cat\" and \"Dog\"\n",
    "# (that's how the original researchers structured it).\n",
    "path_cats_and_dogs = f\"{getcwd()}/../tmp2/cats-and-dogs.zip\"\n",
    "shutil.rmtree(\"/tmp\")\n",
    "\n",
    "local_zip = path_cats_and_dogs\n",
    "zip_ref = zipfile.ZipFile(local_zip, \"r\")\n",
    "zip_ref.extractall(\"/tmp\")\n",
    "zip_ref.close()"
   ]
  },
  {
   "cell_type": "code",
   "execution_count": 3,
   "metadata": {
    "attributes": {
     "classes": [],
     "id": "",
     "n": "3"
    }
   },
   "outputs": [
    {
     "name": "stdout",
     "output_type": "stream",
     "text": [
      "1500\n",
      "1500\n"
     ]
    }
   ],
   "source": [
    "print(len(os.listdir(\"/tmp/PetImages/Cat/\")))\n",
    "print(len(os.listdir(\"/tmp/PetImages/Dog/\")))\n",
    "\n",
    "# Expected output:\n",
    "# 1500\n",
    "# 1500"
   ]
  },
  {
   "cell_type": "code",
   "execution_count": 4,
   "metadata": {
    "attributes": {
     "classes": [],
     "id": "",
     "n": "4"
    }
   },
   "outputs": [],
   "source": [
    "# Use os.mkdir to create your directories.\n",
    "# You will need a directory for cats-v-dogs, and subdirectories for training\n",
    "# and testing. These in turn will need subdirectories for \"cats\" and \"dogs\".\n",
    "\n",
    "try:\n",
    "    # YOUR CODE GOES HERE\n",
    "    parent_1 = \"/tmp/cats-v-dogs/\"\n",
    "    os.mkdir(parent_1)\n",
    "\n",
    "    parent_2 = parent_1 + \"training/\"\n",
    "    os.mkdir(parent_2)\n",
    "    os.mkdir(parent_2 + \"cats/\")\n",
    "    os.mkdir(parent_2 + \"dogs/\")\n",
    "\n",
    "    parent_2 = parent_1 + \"testing/\"\n",
    "    os.mkdir(parent_2)\n",
    "    os.mkdir(parent_2 + \"cats/\")\n",
    "    os.mkdir(parent_2 + \"dogs/\")\n",
    "except OSError:\n",
    "    pass"
   ]
  },
  {
   "cell_type": "code",
   "execution_count": 5,
   "metadata": {
    "attributes": {
     "classes": [],
     "id": "",
     "n": "5"
    }
   },
   "outputs": [],
   "source": [
    "# Write a Python function called split_data which takes:\n",
    "# a SOURCE directory containing the files;\n",
    "# a TRAINING directory that a portion of the files will be copied to;\n",
    "# a TESTING directory that a portion of the files will be copied to;\n",
    "# a SPLIT SIZE to determine the portion.\n",
    "\n",
    "# The files should also be randomized, so that the training set is a random X%\n",
    "# of the files, and the test set is the remaining files.\n",
    "# So, for example, if SOURCE is PetImages/Cat, and SPLIT SIZE is .9 then 90% of\n",
    "# the images in PetImages/Cat will be copied to the TRAINING directory and 10%\n",
    "# of the images will be copied to the TESTING directory.\n",
    "# All images should be checked, and if they have a zero file length, they will\n",
    "# not be copied over.\n",
    "\n",
    "# os.listdir(DIRECTORY) gives you a listing of the contents of that directory.\n",
    "# os.path.getsize(PATH) gives you the size of the file.\n",
    "# copyfile(source, destination) copies a file from source to destination.\n",
    "# random.sample(list, len(list)) shuffles a list.\n",
    "\n",
    "def split_data(SOURCE, TRAINING, TESTING, SPLIT_SIZE):\n",
    "    # YOUR CODE STARTS HERE\n",
    "\n",
    "    # Creates the list of files in the SOURCE directory, and shuffles this\n",
    "    # list.\n",
    "    files_list = os.listdir(SOURCE)\n",
    "    num_files = len(files_list)\n",
    "    files_list = random.sample(files_list, num_files)\n",
    "\n",
    "    # Computes the number of files that will be copied to the TRAINING\n",
    "    # directory.\n",
    "    num_files_training = int(num_files * SPLIT_SIZE)\n",
    "\n",
    "    # Loop for copying the files to the TRAINING directory.\n",
    "    copied_to_training = 0\n",
    "    while copied_to_training < num_files_training:\n",
    "        file_name = files_list.pop(0)\n",
    "        full_path = SOURCE + file_name\n",
    "        if os.path.getsize(full_path) > 0:\n",
    "            copyfile(full_path, TRAINING + file_name)\n",
    "            copied_to_training += 1\n",
    "\n",
    "    # Loop for copying the files to the TESTING directory.\n",
    "    for file_name in files_list:\n",
    "        full_path = SOURCE + file_name\n",
    "        if os.path.getsize(full_path) > 0:\n",
    "            copyfile(full_path, TESTING + file_name)\n",
    "\n",
    "    # YOUR CODE ENDS HERE\n",
    "\n",
    "\n",
    "CAT_SOURCE_DIR = \"/tmp/PetImages/Cat/\"\n",
    "TRAINING_CATS_DIR = \"/tmp/cats-v-dogs/training/cats/\"\n",
    "TESTING_CATS_DIR = \"/tmp/cats-v-dogs/testing/cats/\"\n",
    "\n",
    "DOG_SOURCE_DIR = \"/tmp/PetImages/Dog/\"\n",
    "TRAINING_DOGS_DIR = \"/tmp/cats-v-dogs/training/dogs/\"\n",
    "TESTING_DOGS_DIR = \"/tmp/cats-v-dogs/testing/dogs/\"\n",
    "\n",
    "split_size = .9\n",
    "\n",
    "split_data(CAT_SOURCE_DIR, TRAINING_CATS_DIR, TESTING_CATS_DIR, split_size)\n",
    "split_data(DOG_SOURCE_DIR, TRAINING_DOGS_DIR, TESTING_DOGS_DIR, split_size)"
   ]
  },
  {
   "cell_type": "code",
   "execution_count": 6,
   "metadata": {
    "attributes": {
     "classes": [],
     "id": "",
     "n": "6"
    }
   },
   "outputs": [
    {
     "name": "stdout",
     "output_type": "stream",
     "text": [
      "1350\n",
      "1350\n",
      "150\n",
      "150\n"
     ]
    }
   ],
   "source": [
    "print(len(os.listdir(\"/tmp/cats-v-dogs/training/cats/\")))\n",
    "print(len(os.listdir(\"/tmp/cats-v-dogs/training/dogs/\")))\n",
    "print(len(os.listdir(\"/tmp/cats-v-dogs/testing/cats/\")))\n",
    "print(len(os.listdir(\"/tmp/cats-v-dogs/testing/dogs/\")))\n",
    "\n",
    "# Expected output:\n",
    "# 1350\n",
    "# 1350\n",
    "# 150\n",
    "# 150"
   ]
  },
  {
   "cell_type": "code",
   "execution_count": 7,
   "metadata": {
    "attributes": {
     "classes": [],
     "id": "",
     "n": "7"
    }
   },
   "outputs": [],
   "source": [
    "# DEFINE A KERAS MODEL TO CLASSIFY CATS V DOGS.\n",
    "# USE AT LEAST 3 CONVOLUTION LAYERS.\n",
    "\n",
    "# Later, I'll play around with the values of the HYPERPARAMETERS. Then, for\n",
    "# convenience, I'll set all of these values in the same place.\n",
    "\n",
    "activations = {}\n",
    "activations[\"conv1\"] = \"relu\"\n",
    "activations[\"conv2\"] = \"relu\"\n",
    "activations[\"conv3\"] = \"relu\"\n",
    "activations[\"conv4\"] = \"relu\"\n",
    "activations[\"dense1\"] = \"relu\"\n",
    "\n",
    "convolutions = {}\n",
    "convolutions[\"conv1\"] = 32\n",
    "convolutions[\"conv2\"] = 64\n",
    "convolutions[\"conv3\"] = 128\n",
    "convolutions[\"conv4\"] = 128\n",
    "\n",
    "dimension = {}\n",
    "dimension[\"convolution\"] = 3\n",
    "dimension[\"input_shape\"] = 150\n",
    "dimension[\"pooling\"] = 2\n",
    "\n",
    "BATCH_SIZE = 10\n",
    "hidden_units = 512\n",
    "learning_rate = 10 ** (-4)\n",
    "\n",
    "# Hyperparameters related to the AUGMENTATION:\n",
    "HEIGHT_SHIFT_RANGE = 0.2\n",
    "ROTATION_RANGE = 40\n",
    "SHEAR_RANGE = 0.2\n",
    "WIDTH_SHIFT_RANGE = 0.2\n",
    "ZOOM_RANGE = 0.2\n",
    "\n",
    "model = tf.keras.models.Sequential([\n",
    "    # YOUR CODE HERE\n",
    "\n",
    "    # 1st convolutional layer:\n",
    "    tf.keras.layers.Conv2D(\n",
    "        convolutions[\"conv1\"],\n",
    "        (dimension[\"convolution\"], dimension[\"convolution\"]),\n",
    "        activation=activations[\"conv1\"],\n",
    "        input_shape=(dimension[\"input_shape\"], dimension[\"input_shape\"], 3)\n",
    "    ),\n",
    "    tf.keras.layers.MaxPooling2D(dimension[\"pooling\"], dimension[\"pooling\"]),\n",
    "\n",
    "    # 2nd convolutional layer:\n",
    "    tf.keras.layers.Conv2D(\n",
    "        convolutions[\"conv2\"],\n",
    "        (dimension[\"convolution\"], dimension[\"convolution\"]),\n",
    "        activation=activations[\"conv2\"]\n",
    "    ),\n",
    "    tf.keras.layers.MaxPooling2D(dimension[\"pooling\"], dimension[\"pooling\"]),\n",
    "\n",
    "    # 3rd convolutional layer:\n",
    "    tf.keras.layers.Conv2D(\n",
    "        convolutions[\"conv3\"],\n",
    "        (dimension[\"convolution\"], dimension[\"convolution\"]),\n",
    "        activation=activations[\"conv3\"]\n",
    "    ),\n",
    "    tf.keras.layers.MaxPooling2D(dimension[\"pooling\"], dimension[\"pooling\"]),\n",
    "\n",
    "    # 4th convolutional layer:\n",
    "    tf.keras.layers.Conv2D(\n",
    "        convolutions[\"conv4\"],\n",
    "        (dimension[\"convolution\"], dimension[\"convolution\"]),\n",
    "        activation=activations[\"conv4\"]\n",
    "    ),\n",
    "    tf.keras.layers.MaxPooling2D(dimension[\"pooling\"], dimension[\"pooling\"]),\n",
    "\n",
    "    # Flattens the results:\n",
    "    tf.keras.layers.Flatten(),\n",
    "\n",
    "    # Hidden layer:\n",
    "    tf.keras.layers.Dense(hidden_units, activation=activations[\"dense1\"]),\n",
    "\n",
    "    # Only 1 output neuron, since this is a binary classification problem.\n",
    "    tf.keras.layers.Dense(1, activation=\"sigmoid\")\n",
    "])\n",
    "\n",
    "model.compile(\n",
    "    loss=\"binary_crossentropy\",\n",
    "    metrics=[\"acc\"],\n",
    "    optimizer=RMSprop(lr=learning_rate)\n",
    ")"
   ]
  },
  {
   "cell_type": "markdown",
   "metadata": {},
   "source": [
    "# NOTE:\n",
    "\n",
    "In the cell below you **MUST** use a batch size of 10 (`batch_size=10`) for the\n",
    "`train_generator` and the `validation_generator`. Using a batch size greater\n",
    "than 10 will exceed memory limits on the Coursera platform."
   ]
  },
  {
   "cell_type": "code",
   "execution_count": 8,
   "metadata": {
    "attributes": {
     "classes": [],
     "id": "",
     "n": "8"
    }
   },
   "outputs": [
    {
     "name": "stdout",
     "output_type": "stream",
     "text": [
      "Found 2700 images belonging to 2 classes.\n",
      "Found 300 images belonging to 2 classes.\n"
     ]
    }
   ],
   "source": [
    "# YOUR CODE HERE\n",
    "TRAINING_DIR = \"/tmp/cats-v-dogs/training/\"\n",
    "train_datagen = ImageDataGenerator(\n",
    "    fill_mode=\"nearest\",\n",
    "    height_shift_range=HEIGHT_SHIFT_RANGE,\n",
    "    horizontal_flip=True,\n",
    "    rescale=1/255,\n",
    "    rotation_range=ROTATION_RANGE,\n",
    "    shear_range=SHEAR_RANGE,\n",
    "    width_shift_range=WIDTH_SHIFT_RANGE,\n",
    "    zoom_range=ZOOM_RANGE\n",
    ")\n",
    "\n",
    "# NOTE: YOU MUST USE A BATCH SIZE OF 10 (batch_size=10) FOR THE TRAIN\n",
    "# GENERATOR.\n",
    "# YOUR CODE HERE\n",
    "train_generator = train_datagen.flow_from_directory(\n",
    "    TRAINING_DIR,\n",
    "    batch_size=BATCH_SIZE,\n",
    "    class_mode=\"binary\",\n",
    "    target_size=(dimension[\"input_shape\"], dimension[\"input_shape\"])\n",
    ")\n",
    "\n",
    "# YOUR CODE HERE\n",
    "VALIDATION_DIR = \"/tmp/cats-v-dogs/testing/\"\n",
    "validation_datagen = ImageDataGenerator(rescale=1/255)\n",
    "\n",
    "# NOTE: YOU MUST USE A BATCH SIZE OF 10 (batch_size=10) FOR THE VALIDATION\n",
    "# GENERATOR.\n",
    "# YOUR CODE HERE\n",
    "validation_generator = validation_datagen.flow_from_directory(\n",
    "    VALIDATION_DIR,\n",
    "    batch_size=BATCH_SIZE,\n",
    "    class_mode=\"binary\",\n",
    "    target_size=(dimension[\"input_shape\"], dimension[\"input_shape\"])\n",
    ")\n",
    "\n",
    "# Expected output:\n",
    "# Found 2700 images belonging to 2 classes.\n",
    "# Found 300 images belonging to 2 classes."
   ]
  },
  {
   "cell_type": "code",
   "execution_count": 9,
   "metadata": {
    "attributes": {
     "classes": [],
     "id": "",
     "n": "9"
    }
   },
   "outputs": [
    {
     "name": "stdout",
     "output_type": "stream",
     "text": [
      "Epoch 1/2\n",
      "270/270 - 67s - loss: 0.6849 - acc: 0.5556 - val_loss: 0.6785 - val_acc: 0.5967\n",
      "Epoch 2/2\n",
      "270/270 - 60s - loss: 0.6632 - acc: 0.5874 - val_loss: 0.6345 - val_acc: 0.6633\n"
     ]
    }
   ],
   "source": [
    "history = model.fit_generator(\n",
    "    train_generator,\n",
    "    epochs=2,\n",
    "    steps_per_epoch=270, # 2700 images = BATCH_SIZE * steps_per_epoch\n",
    "    validation_data=validation_generator,\n",
    "    validation_steps=30, # 300 images = BATCH_SIZE * validation_steps\n",
    "    verbose=2\n",
    ")"
   ]
  },
  {
   "cell_type": "code",
   "execution_count": 10,
   "metadata": {
    "attributes": {
     "classes": [],
     "id": "",
     "n": "10"
    }
   },
   "outputs": [
    {
     "data": {
      "image/png": "[encoded data removed]",
      "text/plain": [
       "<Figure size 432x288 with 1 Axes>"
      ]
     },
     "metadata": {
      "needs_background": "light"
     },
     "output_type": "display_data"
    },
    {
     "data": {
      "image/png": "[encoded data removed]",
      "text/plain": [
       "<Figure size 432x288 with 1 Axes>"
      ]
     },
     "metadata": {
      "needs_background": "light"
     },
     "output_type": "display_data"
    }
   ],
   "source": [
    "# PLOTS LOSS AND ACCURACY.\n",
    "%matplotlib inline\n",
    "import matplotlib.pyplot as plt\n",
    "\n",
    "# Retrieves results on training and test datasets for each training epoch.\n",
    "\n",
    "acc = history.history[\"acc\"]\n",
    "val_acc = history.history[\"val_acc\"]\n",
    "\n",
    "loss = history.history[\"loss\"]\n",
    "val_loss = history.history[\"val_loss\"]\n",
    "\n",
    "# Gets the number of epochs.\n",
    "epochs = range(len(acc))\n",
    "\n",
    "# Plots training and validation accuracy per epoch.\n",
    "plt.plot(epochs, acc, \"r\", label=\"Training Accuracy\")\n",
    "plt.plot(epochs, val_acc, \"b\", label=\"Validation Accuracy\")\n",
    "plt.legend()\n",
    "plt.title(\"Training and Validation Accuracy\")\n",
    "\n",
    "plt.figure()\n",
    "\n",
    "# Plots training and validation loss per epoch.\n",
    "plt.plot(epochs, loss, \"r\", label=\"Training Loss\")\n",
    "plt.plot(epochs, val_loss, \"b\", label=\"Validation Loss\")\n",
    "plt.legend()\n",
    "plt.title(\"Training and Validation Loss\")\n",
    "\n",
    "plt.show()\n",
    "\n",
    "# Desired output. Charts with training and validation metrics. No crash :)"
   ]
  },
  {
   "cell_type": "markdown",
   "metadata": {},
   "source": [
    "# Submission Instructions"
   ]
  },
  {
   "cell_type": "code",
   "execution_count": 11,
   "metadata": {
    "attributes": {
     "classes": [],
     "id": "",
     "n": "11"
    }
   },
   "outputs": [],
   "source": [
    "# Now click the \"Submit Assignment\" button above."
   ]
  },
  {
   "cell_type": "markdown",
   "metadata": {},
   "source": [
    "# When you're done or would like to take a break, please run the two cells below\n",
    "to save your work and close the notebook. This will free up resources for your\n",
    "fellow learners."
   ]
  },
  {
   "cell_type": "code",
   "execution_count": null,
   "metadata": {},
   "outputs": [],
   "source": [
    "%%javascript\n",
    "<!-- Save the notebook -->\n",
    "IPython.notebook.save_checkpoint();"
   ]
  },
  {
   "cell_type": "code",
   "execution_count": null,
   "metadata": {},
   "outputs": [],
   "source": [
    "%%javascript\n",
    "IPython.notebook.session.delete();\n",
    "window.onbeforeunload = null\n",
    "setTimeout(function() { window.close(); }, 1000);"
   ]
  }
 ],
 "metadata": {},
 "nbformat": 4,
 "nbformat_minor": 4
}
