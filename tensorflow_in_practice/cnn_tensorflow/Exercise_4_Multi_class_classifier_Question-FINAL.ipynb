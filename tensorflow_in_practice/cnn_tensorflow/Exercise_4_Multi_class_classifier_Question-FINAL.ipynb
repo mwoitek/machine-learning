{
 "cells": [
  {
   "cell_type": "code",
   "execution_count": 1,
   "metadata": {
    "attributes": {
     "classes": [],
     "id": "",
     "n": "1"
    }
   },
   "outputs": [],
   "source": [
    "# ATTENTION: Please do not alter any of the provided code in the exercise. Only\n",
    "# add your own code where indicated.\n",
    "# ATTENTION: Please do not add or remove any cells in the exercise. The grader\n",
    "# will check specific cells based on the cell position.\n",
    "# ATTENTION: Please use the provided epoch values when training.\n",
    "\n",
    "import csv\n",
    "import numpy as np\n",
    "import tensorflow as tf\n",
    "from os import getcwd\n",
    "from tensorflow.keras.preprocessing.image import ImageDataGenerator"
   ]
  },
  {
   "cell_type": "code",
   "execution_count": 2,
   "metadata": {
    "attributes": {
     "classes": [],
     "id": "",
     "n": "2"
    }
   },
   "outputs": [
    {
     "name": "stdout",
     "output_type": "stream",
     "text": [
      "(27455, 28, 28)\n",
      "(27455,)\n",
      "(7172, 28, 28)\n",
      "(7172,)\n"
     ]
    }
   ],
   "source": [
    "def get_data(filename):\n",
    "    # You will need to write code that will read the file passed into this\n",
    "    # function. The first line contains the column headers so you should ignore\n",
    "    # it. Each successive line contains 785 comma separated values between 0\n",
    "    # and 255. The first value is the label. The rest are the pixel values for\n",
    "    # that picture. The function will return 2 np.array types, one with all the\n",
    "    # labels and one with all the images.\n",
    "\n",
    "    # TIPS:\n",
    "    # If you read a full line (as \"row\") then row[0] has the label and\n",
    "    # row[1:785] has the 784 pixel values. Take a look at np.array_split to\n",
    "    # turn the 784 pixels into 28x28. You are reading in strings, but need the\n",
    "    # values to be floats. Check out np.array().astype for a conversion.\n",
    "\n",
    "    images = []\n",
    "    labels = []\n",
    "    with open(filename) as training_file:\n",
    "        # YOUR CODE STARTS HERE\n",
    "        reader = csv.reader(training_file)\n",
    "        next(reader) # Skips the 1st line of the CSV file.\n",
    "        for row in reader:\n",
    "            images.append(np.array(row[1:]).reshape(28, 28).astype(float))\n",
    "            labels.append(float(row[0]))\n",
    "        images = np.array(images)\n",
    "        labels = np.array(labels)\n",
    "        # YOUR CODE ENDS HERE\n",
    "    return images, labels\n",
    "\n",
    "\n",
    "path_sign_mnist_train = f\"{getcwd()}/../tmp2/sign_mnist_train.csv\"\n",
    "path_sign_mnist_test = f\"{getcwd()}/../tmp2/sign_mnist_test.csv\"\n",
    "training_images, training_labels = get_data(path_sign_mnist_train)\n",
    "testing_images, testing_labels = get_data(path_sign_mnist_test)\n",
    "\n",
    "# Keep these:\n",
    "print(training_images.shape)\n",
    "print(training_labels.shape)\n",
    "print(testing_images.shape)\n",
    "print(testing_labels.shape)\n",
    "\n",
    "# Their output should be:\n",
    "# (27455, 28, 28)\n",
    "# (27455,)\n",
    "# (7172, 28, 28)\n",
    "# (7172,)"
   ]
  },
  {
   "cell_type": "code",
   "execution_count": 3,
   "metadata": {
    "attributes": {
     "classes": [],
     "id": "",
     "n": "3"
    }
   },
   "outputs": [
    {
     "name": "stdout",
     "output_type": "stream",
     "text": [
      "(27455, 28, 28, 1)\n",
      "(7172, 28, 28, 1)\n"
     ]
    }
   ],
   "source": [
    "# In this section you will have to add another dimension to the data.\n",
    "# So, for example, if your array is (10000, 28, 28) you will need to make it\n",
    "# (10000, 28, 28, 1).\n",
    "# HINT: np.expand_dims\n",
    "\n",
    "# YOUR CODE HERE\n",
    "training_images = np.expand_dims(training_images, axis=3)\n",
    "testing_images = np.expand_dims(testing_images, axis=3)\n",
    "\n",
    "# Later, I'll play around with the values of the HYPERPARAMETERS. Then, for\n",
    "# convenience, I'll set all of these values in the same place.\n",
    "\n",
    "activations = {}\n",
    "activations[\"conv1\"] = \"relu\"\n",
    "activations[\"conv2\"] = \"relu\"\n",
    "activations[\"dense1\"] = \"relu\"\n",
    "\n",
    "convolutions = {}\n",
    "convolutions[\"conv1\"] = 32\n",
    "convolutions[\"conv2\"] = 64\n",
    "\n",
    "dimension = {}\n",
    "dimension[\"convolution\"] = 3\n",
    "dimension[\"pooling\"] = 2\n",
    "\n",
    "BATCH_SIZE = 10\n",
    "hidden_units = 512\n",
    "\n",
    "# Hyperparameters related to the AUGMENTATION:\n",
    "HEIGHT_SHIFT_RANGE = 0.2\n",
    "ROTATION_RANGE = 20\n",
    "SHEAR_RANGE = 0.1\n",
    "WIDTH_SHIFT_RANGE = 0.2\n",
    "ZOOM_RANGE = 0.2\n",
    "\n",
    "# Create an ImageDataGenerator and do image augmentation:\n",
    "train_datagen = ImageDataGenerator(\n",
    "    # YOUR CODE HERE\n",
    "    fill_mode=\"nearest\",\n",
    "    height_shift_range=HEIGHT_SHIFT_RANGE,\n",
    "    horizontal_flip=True,\n",
    "    rescale=1/255,\n",
    "    rotation_range=ROTATION_RANGE,\n",
    "    shear_range=SHEAR_RANGE,\n",
    "    width_shift_range=WIDTH_SHIFT_RANGE,\n",
    "    zoom_range=ZOOM_RANGE\n",
    ")\n",
    "\n",
    "train_generator = train_datagen.flow(\n",
    "    training_images,\n",
    "    training_labels,\n",
    "    batch_size=BATCH_SIZE\n",
    ")\n",
    "\n",
    "validation_datagen = ImageDataGenerator(\n",
    "    # YOUR CODE HERE\n",
    "    rescale=1/255\n",
    ")\n",
    "\n",
    "validation_generator = validation_datagen.flow(\n",
    "    testing_images,\n",
    "    testing_labels,\n",
    "    batch_size=BATCH_SIZE\n",
    ")\n",
    "\n",
    "# Keep these:\n",
    "print(training_images.shape)\n",
    "print(testing_images.shape)\n",
    "\n",
    "# Their output should be:\n",
    "# (27455, 28, 28, 1)\n",
    "# (7172, 28, 28, 1)"
   ]
  },
  {
   "cell_type": "code",
   "execution_count": 4,
   "metadata": {
    "attributes": {
     "classes": [],
     "id": "",
     "n": "4"
    }
   },
   "outputs": [
    {
     "name": "stdout",
     "output_type": "stream",
     "text": [
      "Epoch 1/2\n",
      "2746/2746 - 138s - loss: 2.2604 - acc: 0.2887 - val_loss: 0.9971 - val_acc: 0.6655\n",
      "Epoch 2/2\n",
      "2746/2746 - 129s - loss: 1.1593 - acc: 0.6156 - val_loss: 0.6586 - val_acc: 0.7698\n"
     ]
    },
    {
     "data": {
      "text/plain": [
       "[3.0476084545346125, 0.081985496]"
      ]
     },
     "execution_count": 4,
     "metadata": {},
     "output_type": "execute_result"
    }
   ],
   "source": [
    "# Define the model. Use no more than 2 Conv2D and 2 MaxPooling2D.\n",
    "model = tf.keras.models.Sequential([\n",
    "    # YOUR CODE HERE\n",
    "\n",
    "    # 1st convolutional layer:\n",
    "    tf.keras.layers.Conv2D(\n",
    "        convolutions[\"conv1\"],\n",
    "        (dimension[\"convolution\"], dimension[\"convolution\"]),\n",
    "        activation=activations[\"conv1\"],\n",
    "        input_shape=(28, 28, 1)\n",
    "    ),\n",
    "    tf.keras.layers.MaxPooling2D(dimension[\"pooling\"], dimension[\"pooling\"]),\n",
    "\n",
    "    # 2nd convolutional layer:\n",
    "    tf.keras.layers.Conv2D(\n",
    "        convolutions[\"conv2\"],\n",
    "        (dimension[\"convolution\"], dimension[\"convolution\"]),\n",
    "        activation=activations[\"conv2\"]\n",
    "    ),\n",
    "    tf.keras.layers.MaxPooling2D(dimension[\"pooling\"], dimension[\"pooling\"]),\n",
    "\n",
    "    # Flattens the results:\n",
    "    tf.keras.layers.Flatten(),\n",
    "\n",
    "    # Hidden layer:\n",
    "    tf.keras.layers.Dense(hidden_units, activation=activations[\"dense1\"]),\n",
    "\n",
    "    # In this problem, there are 25 classes. Then we need 25 output neurons:\n",
    "    tf.keras.layers.Dense(25, activation=\"sigmoid\")\n",
    "])\n",
    "\n",
    "# Compile the model.\n",
    "model.compile(\n",
    "    # YOUR CODE HERE\n",
    "    loss=\"sparse_categorical_crossentropy\",\n",
    "    metrics=[\"acc\"],\n",
    "    optimizer=\"adam\"\n",
    ")\n",
    "\n",
    "# Train the model.\n",
    "# Set epochs = 2.\n",
    "history = model.fit_generator(\n",
    "    # YOUR CODE HERE\n",
    "    train_generator,\n",
    "    epochs=2,\n",
    "    validation_data=validation_generator,\n",
    "    verbose=2\n",
    ")\n",
    "\n",
    "model.evaluate(\n",
    "    testing_images,\n",
    "    testing_labels,\n",
    "    verbose=0\n",
    ")"
   ]
  },
  {
   "cell_type": "code",
   "execution_count": 5,
   "metadata": {
    "attributes": {
     "classes": [],
     "id": "",
     "n": "5"
    }
   },
   "outputs": [
    {
     "data": {
      "image/png": "[encoded data removed]",
      "text/plain": [
       "<Figure size 432x288 with 1 Axes>"
      ]
     },
     "metadata": {
      "needs_background": "light"
     },
     "output_type": "display_data"
    },
    {
     "data": {
      "image/png": "[encoded data removed]",
      "text/plain": [
       "<Figure size 432x288 with 1 Axes>"
      ]
     },
     "metadata": {
      "needs_background": "light"
     },
     "output_type": "display_data"
    }
   ],
   "source": [
    "# Plot the chart for accuracy and loss on both training and validation.\n",
    "%matplotlib inline\n",
    "import matplotlib.pyplot as plt\n",
    "\n",
    "# YOUR CODE HERE\n",
    "\n",
    "acc = history.history[\"acc\"]\n",
    "val_acc = history.history[\"val_acc\"]\n",
    "\n",
    "loss = history.history[\"loss\"]\n",
    "val_loss = history.history[\"val_loss\"]\n",
    "\n",
    "epochs = range(len(acc))\n",
    "\n",
    "plt.plot(epochs, acc, \"r\", label=\"Training Accuracy\")\n",
    "plt.plot(epochs, val_acc, \"b\", label=\"Validation Accuracy\")\n",
    "plt.legend()\n",
    "plt.title(\"Training and Validation Accuracy\")\n",
    "\n",
    "plt.figure()\n",
    "\n",
    "plt.plot(epochs, loss, \"r\", label=\"Training Loss\")\n",
    "plt.plot(epochs, val_loss, \"b\", label=\"Validation Loss\")\n",
    "plt.legend()\n",
    "plt.title(\"Training and Validation Loss\")\n",
    "\n",
    "plt.show()"
   ]
  },
  {
   "cell_type": "markdown",
   "metadata": {},
   "source": [
    "# Submission Instructions"
   ]
  },
  {
   "cell_type": "code",
   "execution_count": 6,
   "metadata": {
    "attributes": {
     "classes": [],
     "id": "",
     "n": "6"
    }
   },
   "outputs": [],
   "source": [
    "# Now click the \"Submit Assignment\" button above."
   ]
  },
  {
   "cell_type": "markdown",
   "metadata": {},
   "source": [
    "# When you're done or would like to take a break, please run the two cells below\n",
    "to save your work and close the notebook. This will free up resources for your\n",
    "fellow learners."
   ]
  },
  {
   "cell_type": "code",
   "execution_count": null,
   "metadata": {},
   "outputs": [],
   "source": [
    "%%javascript\n",
    "<!-- Save the notebook -->\n",
    "IPython.notebook.save_checkpoint();"
   ]
  },
  {
   "cell_type": "code",
   "execution_count": null,
   "metadata": {},
   "outputs": [],
   "source": [
    "%%javascript\n",
    "IPython.notebook.session.delete();\n",
    "window.onbeforeunload = null\n",
    "setTimeout(function() { window.close(); }, 1000);"
   ]
  }
 ],
 "metadata": {},
 "nbformat": 4,
 "nbformat_minor": 4
}
