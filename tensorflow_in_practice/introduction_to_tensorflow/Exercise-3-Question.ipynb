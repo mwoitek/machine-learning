{
 "cells": [
  {
   "cell_type": "markdown",
   "metadata": {},
   "source": [
    "## Exercise 3\n",
    "In the videos you looked at how you would improve Fashion MNIST using\n",
    "Convolutions. For your exercise see if you can improve MNIST to 99.8% accuracy\n",
    "or more using only a single convolutional layer and a single MaxPooling 2D. You\n",
    "should stop training once the accuracy goes above this amount. It should happen\n",
    "in less than 20 epochs, so it's ok to hard code the number of epochs for\n",
    "training, but your training must end once it hits the above metric. If it\n",
    "doesn't, then you'll need to redesign your layers.\n",
    "\n",
    "I've started the code for you -- you need to finish it!\n",
    "\n",
    "When 99.8% accuracy has been hit, you should print out the string \"Reached 99.8%\n",
    "accuracy so cancelling training!\""
   ]
  },
  {
   "cell_type": "code",
   "execution_count": 1,
   "metadata": {
    "attributes": {
     "classes": [],
     "id": "",
     "n": "1"
    }
   },
   "outputs": [],
   "source": [
    "import tensorflow as tf\n",
    "from os import chdir, getcwd, path\n",
    "\n",
    "# DO NOT CHANGE THE LINE BELOW. If you are developing in a local\n",
    "# environment, then grab mnist.npz from the Coursera Jupyter Notebook\n",
    "# and place it inside a local folder and edit the path to that location.\n",
    "path = f\"{getcwd()}/../tmp2/mnist.npz\""
   ]
  },
  {
   "cell_type": "code",
   "execution_count": 2,
   "metadata": {
    "attributes": {
     "classes": [],
     "id": "",
     "n": "2"
    }
   },
   "outputs": [],
   "source": [
    "config = tf.ConfigProto()\n",
    "config.gpu_options.allow_growth = True\n",
    "sess = tf.Session(config=config)"
   ]
  },
  {
   "cell_type": "code",
   "execution_count": 3,
   "metadata": {
    "attributes": {
     "classes": [],
     "id": "",
     "n": "3"
    }
   },
   "outputs": [],
   "source": [
    "# GRADED FUNCTION: train_mnist_conv\n",
    "def train_mnist_conv():\n",
    "    # Please write your code only where you are indicated.\n",
    "    # Please do not remove # model fitting inline comments.\n",
    "\n",
    "    # YOUR CODE SHOULD START HERE\n",
    "    class myCallback(tf.keras.callbacks.Callback):\n",
    "        def on_epoch_end(self, epoch, logs={}):\n",
    "            if logs.get(\"acc\") >= 0.998:\n",
    "                print(\"\\nReached 99.8% accuracy so cancelling training!\")\n",
    "                self.model.stop_training = True\n",
    "    # YOUR CODE SHOULD END HERE\n",
    "\n",
    "    mnist = tf.keras.datasets.mnist\n",
    "    (training_images, training_labels), \\\n",
    "    (test_images, test_labels) = mnist.load_data(path=path)\n",
    "\n",
    "    # YOUR CODE STARTS HERE\n",
    "\n",
    "    # Reshaping:\n",
    "    training_images = training_images.reshape(60000, 28, 28, 1)\n",
    "    test_images = test_images.reshape(10000, 28, 28, 1)\n",
    "\n",
    "    # Normalization:\n",
    "    training_images = training_images / 255.0\n",
    "    test_images = test_images / 255.0\n",
    "\n",
    "    # New instance of myCallback:\n",
    "    callbacks = myCallback()\n",
    "\n",
    "    # YOUR CODE ENDS HERE\n",
    "\n",
    "    model = tf.keras.models.Sequential([\n",
    "        # YOUR CODE STARTS HERE\n",
    "        tf.keras.layers.Conv2D(\n",
    "            64,\n",
    "            (3, 3),\n",
    "            activation=tf.nn.relu,\n",
    "            input_shape=(28, 28, 1)\n",
    "        ),\n",
    "        tf.keras.layers.MaxPooling2D(2, 2),\n",
    "        tf.keras.layers.Flatten(),\n",
    "        tf.keras.layers.Dense(128, activation=tf.nn.relu),\n",
    "        tf.keras.layers.Dense(10, activation=tf.nn.softmax)\n",
    "        # YOUR CODE ENDS HERE\n",
    "    ])\n",
    "\n",
    "    model.compile(\n",
    "        loss=\"sparse_categorical_crossentropy\",\n",
    "        metrics=[\"accuracy\"],\n",
    "        optimizer=\"adam\"\n",
    "    )\n",
    "\n",
    "    # model fitting\n",
    "    history = model.fit(\n",
    "        # YOUR CODE SHOULD START HERE\n",
    "        training_images,\n",
    "        training_labels,\n",
    "        epochs=20,\n",
    "        callbacks=[callbacks]\n",
    "        # YOUR CODE SHOULD END HERE\n",
    "    )\n",
    "\n",
    "    # model fitting\n",
    "    return history.epoch, history.history[\"acc\"][-1]"
   ]
  },
  {
   "cell_type": "code",
   "execution_count": 4,
   "metadata": {
    "attributes": {
     "classes": [],
     "id": "",
     "n": "4"
    }
   },
   "outputs": [
    {
     "name": "stderr",
     "output_type": "stream",
     "text": [
      "WARNING: Logging before flag parsing goes to stderr.\n",
      "W0712 14:08:55.498948 139833889056576 deprecation.py:506] From /usr/local/lib/python3.6/dist-packages/tensorflow/python/ops/init_ops.py:1251: calling VarianceScaling.__init__ (from tensorflow.python.ops.init_ops) with dtype is deprecated and will be removed in a future version.\n",
      "Instructions for updating:\n",
      "Call initializer instance with the dtype argument instead of passing it to the constructor\n"
     ]
    },
    {
     "name": "stdout",
     "output_type": "stream",
     "text": [
      "Epoch 1/20\n",
      "60000/60000 [==============================] - 28s 464us/sample - loss: 0.1373 - acc: 0.9579\n",
      "Epoch 2/20\n",
      "60000/60000 [==============================] - 24s 393us/sample - loss: 0.0466 - acc: 0.9855\n",
      "Epoch 3/20\n",
      "60000/60000 [==============================] - 23s 390us/sample - loss: 0.0269 - acc: 0.9917\n",
      "Epoch 4/20\n",
      "60000/60000 [==============================] - 24s 401us/sample - loss: 0.0178 - acc: 0.9944\n",
      "Epoch 5/20\n",
      "60000/60000 [==============================] - 22s 373us/sample - loss: 0.0131 - acc: 0.9955\n",
      "Epoch 6/20\n",
      "60000/60000 [==============================] - 23s 380us/sample - loss: 0.0097 - acc: 0.9969\n",
      "Epoch 7/20\n",
      "59808/60000 [============================>.] - ETA: 0s - loss: 0.0059 - acc: 0.9982\n",
      "Reached 99.8% accuracy so cancelling training!\n",
      "60000/60000 [==============================] - 22s 367us/sample - loss: 0.0060 - acc: 0.9981\n"
     ]
    }
   ],
   "source": [
    "_, _ = train_mnist_conv()"
   ]
  },
  {
   "cell_type": "code",
   "execution_count": 5,
   "metadata": {
    "attributes": {
     "classes": [],
     "id": "",
     "n": "5"
    }
   },
   "outputs": [],
   "source": [
    "# Now click the \"Submit Assignment\" button above.\n",
    "# Once that is complete, please run the following two cells to save your work and close the notebook."
   ]
  },
  {
   "cell_type": "code",
   "execution_count": null,
   "metadata": {},
   "outputs": [],
   "source": [
    "%%javascript\n",
    "<!-- Save the notebook -->\n",
    "IPython.notebook.save_checkpoint();"
   ]
  },
  {
   "cell_type": "code",
   "execution_count": null,
   "metadata": {},
   "outputs": [],
   "source": [
    "%%javascript\n",
    "IPython.notebook.session.delete();\n",
    "window.onbeforeunload = null\n",
    "setTimeout(function() { window.close(); }, 1000);"
   ]
  }
 ],
 "metadata": {},
 "nbformat": 4,
 "nbformat_minor": 4
}
