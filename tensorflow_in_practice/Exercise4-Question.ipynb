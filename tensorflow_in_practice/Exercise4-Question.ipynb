{
 "cells": [
  {
   "cell_type": "markdown",
   "metadata": {},
   "source": [
    "Below is code with a link to a happy or sad dataset which contains 80 images, 40\n",
    "happy and 40 sad.\n",
    "Create a convolutional neural network that trains to 100% accuracy on these\n",
    "images, which cancels training upon hitting training accuracy of >.999\n",
    "\n",
    "Hint -- it will work best with 3 convolutional layers."
   ]
  },
  {
   "cell_type": "code",
   "execution_count": 1,
   "metadata": {
    "attributes": {
     "classes": [],
     "id": "",
     "n": "1"
    }
   },
   "outputs": [],
   "source": [
    "import os\n",
    "import tensorflow as tf\n",
    "import zipfile\n",
    "from os import chdir, getcwd, path\n",
    "\n",
    "# DO NOT CHANGE THE LINE BELOW. If you are developing in a local\n",
    "# environment, then grab happy-or-sad.zip from the Coursera Jupyter Notebook\n",
    "# and place it inside a local folder and edit the path to that location.\n",
    "path = f\"{getcwd()}/../tmp2/happy-or-sad.zip\"\n",
    "\n",
    "zip_ref = zipfile.ZipFile(path, \"r\")\n",
    "zip_ref.extractall(\"/tmp/h-or-s\")\n",
    "zip_ref.close()"
   ]
  },
  {
   "cell_type": "code",
   "execution_count": 2,
   "metadata": {
    "attributes": {
     "classes": [],
     "id": "",
     "n": "2"
    }
   },
   "outputs": [],
   "source": [
    "# GRADED FUNCTION: train_happy_sad_model\n",
    "def train_happy_sad_model():\n",
    "    # Please write your code only where you are indicated.\n",
    "    # Please do not remove # model fitting inline comments.\n",
    "\n",
    "    DESIRED_ACCURACY = 0.999\n",
    "\n",
    "    class myCallback(tf.keras.callbacks.Callback):\n",
    "        # Your Code\n",
    "        def on_epoch_end(self, epoch, logs={}):\n",
    "            if logs.get(\"acc\") >= DESIRED_ACCURACY:\n",
    "                print(\"\\nReached 99.9% accuracy so cancelling training!\")\n",
    "                self.model.stop_training = True\n",
    "\n",
    "    callbacks = myCallback()\n",
    "\n",
    "    # This code block should define and compile the model. Please assume the\n",
    "    # images are 150x150 in your implementation.\n",
    "\n",
    "    model = tf.keras.models.Sequential([\n",
    "        # Your Code Here\n",
    "\n",
    "        # First convolution:\n",
    "        tf.keras.layers.Conv2D(\n",
    "            16,\n",
    "            (3, 3),\n",
    "            activation=tf.nn.relu,\n",
    "            input_shape=(150, 150, 3)\n",
    "        ),\n",
    "        tf.keras.layers.MaxPooling2D(2, 2),\n",
    "\n",
    "        # Second convolution:\n",
    "        tf.keras.layers.Conv2D(\n",
    "            32,\n",
    "            (3, 3),\n",
    "            activation=tf.nn.relu\n",
    "        ),\n",
    "        tf.keras.layers.MaxPooling2D(2, 2),\n",
    "\n",
    "        # Third convolution:\n",
    "        tf.keras.layers.Conv2D(\n",
    "            64,\n",
    "            (3, 3),\n",
    "            activation=tf.nn.relu\n",
    "        ),\n",
    "        tf.keras.layers.MaxPooling2D(2, 2),\n",
    "\n",
    "        # Flattens the results:\n",
    "        tf.keras.layers.Flatten(),\n",
    "\n",
    "        # Hidden layer:\n",
    "        tf.keras.layers.Dense(512, activation=tf.nn.relu),\n",
    "\n",
    "        # Only 1 output neuron, since this is a binary classification problem.\n",
    "        tf.keras.layers.Dense(1, activation=tf.nn.sigmoid)\n",
    "    ])\n",
    "\n",
    "    from tensorflow.keras.optimizers import RMSprop\n",
    "\n",
    "    model.compile(\n",
    "        # Your Code Here\n",
    "        loss=\"binary_crossentropy\",\n",
    "        metrics=[\"accuracy\"],\n",
    "        optimizer=RMSprop(lr=0.001)\n",
    "    )\n",
    "\n",
    "    # This code block should create an instance of ImageDataGenerator called\n",
    "    # train_datagen, and a train_generator by calling\n",
    "    # train_datagen.flow_from_directory.\n",
    "\n",
    "    from tensorflow.keras.preprocessing.image import ImageDataGenerator\n",
    "\n",
    "    # Your Code Here\n",
    "    train_datagen = ImageDataGenerator(rescale=1/255)\n",
    "\n",
    "    # Please use a target_size of 150x150.\n",
    "    train_generator = train_datagen.flow_from_directory(\n",
    "        \"/tmp/h-or-s\",\n",
    "        batch_size=10,\n",
    "        class_mode=\"binary\",\n",
    "        target_size=(150, 150)\n",
    "    )\n",
    "    # Expected output: \"Found 80 images belonging to 2 classes\"\n",
    "\n",
    "    # model fitting\n",
    "    history = model.fit(\n",
    "        # Your Code Here\n",
    "        train_generator,\n",
    "        callbacks=[callbacks],\n",
    "        epochs=100,\n",
    "        steps_per_epoch=20\n",
    "    )\n",
    "\n",
    "    # model fitting\n",
    "    return history.history[\"acc\"][-1]"
   ]
  },
  {
   "cell_type": "code",
   "execution_count": 3,
   "metadata": {
    "attributes": {
     "classes": [],
     "id": "",
     "n": "3"
    }
   },
   "outputs": [
    {
     "name": "stderr",
     "output_type": "stream",
     "text": [
      "WARNING: Logging before flag parsing goes to stderr.\n",
      "W0713 08:58:31.001100 140068698752832 deprecation.py:506] From /usr/local/lib/python3.6/dist-packages/tensorflow/python/ops/init_ops.py:1251: calling VarianceScaling.__init__ (from tensorflow.python.ops.init_ops) with dtype is deprecated and will be removed in a future version.\n",
      "Instructions for updating:\n",
      "Call initializer instance with the dtype argument instead of passing it to the constructor\n",
      "W0713 08:58:31.330447 140068698752832 deprecation.py:323] From /usr/local/lib/python3.6/dist-packages/tensorflow/python/ops/nn_impl.py:180: add_dispatch_support.<locals>.wrapper (from tensorflow.python.ops.array_ops) is deprecated and will be removed in a future version.\n",
      "Instructions for updating:\n",
      "Use tf.where in 2.0, which has the same broadcast rule as np.where\n"
     ]
    },
    {
     "name": "stdout",
     "output_type": "stream",
     "text": [
      "Found 80 images belonging to 2 classes.\n",
      "Epoch 1/100\n",
      "20/20 [==============================] - 6s 295ms/step - loss: 1.4845 - acc: 0.6550\n",
      "Epoch 2/100\n",
      "20/20 [==============================] - 1s 61ms/step - loss: 0.2420 - acc: 0.9150\n",
      "Epoch 3/100\n",
      "20/20 [==============================] - 1s 60ms/step - loss: 0.1307 - acc: 0.9550\n",
      "Epoch 4/100\n",
      "20/20 [==============================] - 1s 60ms/step - loss: 0.0367 - acc: 0.9900\n",
      "Epoch 5/100\n",
      "19/20 [===========================>..] - ETA: 0s - loss: 0.0031 - acc: 1.0000\n",
      "Reached 99.9% accuracy so cancelling training!\n",
      "20/20 [==============================] - 1s 65ms/step - loss: 0.0036 - acc: 1.0000\n"
     ]
    },
    {
     "data": {
      "text/plain": [
       "1.0"
      ]
     },
     "execution_count": 3,
     "metadata": {},
     "output_type": "execute_result"
    }
   ],
   "source": [
    "# Expected output: \"Reached 99.9% accuracy so cancelling training!\"\n",
    "train_happy_sad_model()"
   ]
  },
  {
   "cell_type": "code",
   "execution_count": 4,
   "metadata": {
    "attributes": {
     "classes": [],
     "id": "",
     "n": "4"
    }
   },
   "outputs": [],
   "source": [
    "# Now click the \"Submit Assignment\" button above.\n",
    "# Once that is complete, please run the following two cells to save your work and close the notebook."
   ]
  },
  {
   "cell_type": "code",
   "execution_count": null,
   "metadata": {},
   "outputs": [],
   "source": [
    "%%javascript\n",
    "<!-- Save the notebook -->\n",
    "IPython.notebook.save_checkpoint();"
   ]
  },
  {
   "cell_type": "code",
   "execution_count": null,
   "metadata": {},
   "outputs": [],
   "source": [
    "%%javascript\n",
    "IPython.notebook.session.delete();\n",
    "window.onbeforeunload = null\n",
    "setTimeout(function() { window.close(); }, 1000);"
   ]
  }
 ],
 "metadata": {},
 "nbformat": 4,
 "nbformat_minor": 4
}
